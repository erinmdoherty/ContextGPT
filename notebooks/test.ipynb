{
 "cells": [
  {
   "cell_type": "code",
   "execution_count": 1,
   "id": "c8af2853-7cd3-4f8f-9a4f-de2406124bba",
   "metadata": {},
   "outputs": [],
   "source": [
    "import requests"
   ]
  },
  {
   "cell_type": "code",
   "execution_count": 2,
   "id": "f401eb27-56a1-425a-a0a9-f4f43200b194",
   "metadata": {},
   "outputs": [
    {
     "name": "stdout",
     "output_type": "stream",
     "text": [
      "{'message': 'Documents added to ChromaDB.'}\n"
     ]
    }
   ],
   "source": [
    "files = [\n",
    "    ('files', open('../uploads/2020-27065.pdf', 'rb')),\n",
    "]\n",
    "\n",
    "response = requests.post(\"http://localhost:5001/upload\", files=files)\n",
    "print(response.json())"
   ]
  },
  {
   "cell_type": "code",
   "execution_count": 3,
   "id": "af264771-6fb9-4c66-b58c-c319a1be2e3c",
   "metadata": {},
   "outputs": [
    {
     "name": "stdout",
     "output_type": "stream",
     "text": [
      "{'documents_stored': 49}\n"
     ]
    }
   ],
   "source": [
    "response = requests.get(\"http://localhost:5001/status\")\n",
    "print(response.json())\n"
   ]
  },
  {
   "cell_type": "code",
   "execution_count": 4,
   "id": "e8967030-e88c-4989-88d3-d3f6c24b7957",
   "metadata": {},
   "outputs": [],
   "source": [
    "data = {\"query\": \"What are the AI principles?\", \"k\": 3}\n",
    "retrieve_response = requests.post(\"http://localhost:5002/retrieve\", json=data)"
   ]
  },
  {
   "cell_type": "code",
   "execution_count": 5,
   "id": "194c55e4-c1e4-4174-a464-7ad5871236a5",
   "metadata": {},
   "outputs": [
    {
     "data": {
      "text/plain": [
       "<Response [200]>"
      ]
     },
     "execution_count": 5,
     "metadata": {},
     "output_type": "execute_result"
    }
   ],
   "source": [
    "retrieve_response"
   ]
  },
  {
   "cell_type": "code",
   "execution_count": 6,
   "id": "f4eb4422-a076-46ca-8b8e-0985f785a96c",
   "metadata": {},
   "outputs": [
    {
     "name": "stdout",
     "output_type": "stream",
     "text": [
      "Retrieved Context:\n",
      " 23, 2020). Such guidelines and principles ensure that the use of AI in those contexts will benefit the American people and be worthy of their trust. \n",
      "Section 3 of this order establishes additional principles (Principles) for the\n",
      "provided for by applicable law, the Principles and implementation guidance in this order shall apply to AI designed, developed, acquired, or used specifically to advance the execution of agencies’ missions, enhance decision making, or provide the public with a specified benefit. \n",
      "(c) This order applies to both existing and new uses of AI; both stand-\n",
      "(c) It is the policy of the United States that the Principles for the use \n",
      "of AI in Government shall be governed by common policy guidance issued by the Office of Management and Budget (OMB) as outlined in section 4 of this order, consistent with applicable law. \n",
      "Sec. 3 . Principles for Use of AI in Government. When designing, developing, \n",
      "acquiring, and using AI in the Federal Government, agencies shall adhere to the following Principles:\n"
     ]
    }
   ],
   "source": [
    "context = retrieve_response.json().get(\"context\", \"\")\n",
    "print(\"Retrieved Context:\\n\", context)"
   ]
  },
  {
   "cell_type": "code",
   "execution_count": 9,
   "id": "26ca7a4a-018d-418d-b0d8-654d23e940c0",
   "metadata": {},
   "outputs": [
    {
     "name": "stdout",
     "output_type": "stream",
     "text": [
      "AI Answer:\n",
      " Yes, there are several ethical principles you should be aware of when developing AI in government, as outlined in Section 3 of the executive order. These principles include:\n",
      "\n",
      "1. Transparency: \"Agency decision-making and actions taken based on AI shall be transparent, consistent with applicable laws and policies.\"\n",
      "2. Accountability: Agencies must be accountable for implementing and ensuring the accountability of AI systems.\n",
      "3. Fairness: \"AI systems shall not be used to discriminate against or unfairly disadvantage any individual or group on a protected class basis.\"\n",
      "4. Explainability: \"AI decisions that affect an individual's life, liberty, or property shall be explainable in a manner consistent with applicable laws and policies.\"\n",
      "5. Privacy: Agencies must ensure the privacy of individuals' personal data and protect sensitive information.\n",
      "6. Security: Agencies must take steps to prevent unauthorized access to AI systems and protect against cyber threats.\n",
      "\n",
      "These principles aim to ensure that the development and use of AI in government aligns with American values and promotes trust among stakeholders.\n"
     ]
    }
   ],
   "source": [
    "ask_data = {\"query\": \"Are there any ethical principles I need to be aware when developing AI in government?\", \"context\": context}\n",
    "ask_response = requests.post(\"http://localhost:5003/ask\", json=ask_data)\n",
    "\n",
    "print(\"AI Answer:\\n\", ask_response.json().get(\"response\", \"No response received.\"))\n"
   ]
  },
  {
   "cell_type": "code",
   "execution_count": null,
   "id": "12be823e-4654-408f-bd0f-9fc56f44cfaf",
   "metadata": {},
   "outputs": [],
   "source": []
  }
 ],
 "metadata": {
  "kernelspec": {
   "display_name": "Python 3 (ipykernel)",
   "language": "python",
   "name": "python3"
  },
  "language_info": {
   "codemirror_mode": {
    "name": "ipython",
    "version": 3
   },
   "file_extension": ".py",
   "mimetype": "text/x-python",
   "name": "python",
   "nbconvert_exporter": "python",
   "pygments_lexer": "ipython3",
   "version": "3.11.7"
  }
 },
 "nbformat": 4,
 "nbformat_minor": 5
}
